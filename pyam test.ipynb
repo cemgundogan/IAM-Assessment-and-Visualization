{
 "cells": [
  {
   "cell_type": "code",
   "execution_count": 4,
   "metadata": {},
   "outputs": [],
   "source": [
    "import numpy as np\n",
    "import pandas as pd\n",
    "import matplotlib.pyplot as plt\n",
    "import pyam\n",
    "\n",
    "%matplotlib inline"
   ]
  },
  {
   "cell_type": "code",
   "execution_count": 5,
   "metadata": {},
   "outputs": [
    {
     "name": "stderr",
     "output_type": "stream",
     "text": [
      "INFO:root:Reading `tutorial_AR5_data.csv`\n"
     ]
    }
   ],
   "source": [
    "df = pyam.IamDataFrame(data='tutorial_AR5_data.csv', encoding='utf-8')"
   ]
  },
  {
   "cell_type": "code",
   "execution_count": 6,
   "metadata": {},
   "outputs": [
    {
     "data": {
      "text/plain": [
       "0    AIM-Enduse 12.1\n",
       "1           GCAM 3.0\n",
       "2          IMAGE 2.4\n",
       "3        MERGE_EMF27\n",
       "4        MESSAGE V.4\n",
       "5         REMIND 1.5\n",
       "6        WITCH_EMF27\n",
       "Name: model, dtype: object"
      ]
     },
     "execution_count": 6,
     "metadata": {},
     "output_type": "execute_result"
    }
   ],
   "source": [
    "df.models()"
   ]
  },
  {
   "cell_type": "code",
   "execution_count": 7,
   "metadata": {},
   "outputs": [
    {
     "data": {
      "text/plain": [
       "0      ASIA\n",
       "1       LAM\n",
       "2       MAF\n",
       "3    OECD90\n",
       "4       REF\n",
       "5     World\n",
       "Name: region, dtype: object"
      ]
     },
     "execution_count": 7,
     "metadata": {},
     "output_type": "execute_result"
    }
   ],
   "source": [
    "df.regions()"
   ]
  },
  {
   "cell_type": "code",
   "execution_count": 8,
   "metadata": {},
   "outputs": [
    {
     "data": {
      "text/html": [
       "<div>\n",
       "<style scoped>\n",
       "    .dataframe tbody tr th:only-of-type {\n",
       "        vertical-align: middle;\n",
       "    }\n",
       "\n",
       "    .dataframe tbody tr th {\n",
       "        vertical-align: top;\n",
       "    }\n",
       "\n",
       "    .dataframe thead th {\n",
       "        text-align: right;\n",
       "    }\n",
       "</style>\n",
       "<table border=\"1\" class=\"dataframe\">\n",
       "  <thead>\n",
       "    <tr style=\"text-align: right;\">\n",
       "      <th></th>\n",
       "      <th>variable</th>\n",
       "      <th>unit</th>\n",
       "    </tr>\n",
       "  </thead>\n",
       "  <tbody>\n",
       "    <tr>\n",
       "      <td>0</td>\n",
       "      <td>Emissions|CO2</td>\n",
       "      <td>Mt CO2/yr</td>\n",
       "    </tr>\n",
       "    <tr>\n",
       "      <td>1</td>\n",
       "      <td>Emissions|CO2|Fossil Fuels and Industry</td>\n",
       "      <td>Mt CO2/yr</td>\n",
       "    </tr>\n",
       "    <tr>\n",
       "      <td>3</td>\n",
       "      <td>Emissions|CO2|Fossil Fuels and Industry|Energy...</td>\n",
       "      <td>Mt CO2/yr</td>\n",
       "    </tr>\n",
       "    <tr>\n",
       "      <td>4</td>\n",
       "      <td>Emissions|CO2|Fossil Fuels and Industry|Energy...</td>\n",
       "      <td>Mt CO2/yr</td>\n",
       "    </tr>\n",
       "    <tr>\n",
       "      <td>5</td>\n",
       "      <td>Price|Carbon</td>\n",
       "      <td>US$2005/t CO2</td>\n",
       "    </tr>\n",
       "    <tr>\n",
       "      <td>2</td>\n",
       "      <td>Primary Energy</td>\n",
       "      <td>EJ/yr</td>\n",
       "    </tr>\n",
       "    <tr>\n",
       "      <td>6</td>\n",
       "      <td>Primary Energy|Coal</td>\n",
       "      <td>EJ/yr</td>\n",
       "    </tr>\n",
       "    <tr>\n",
       "      <td>7</td>\n",
       "      <td>Primary Energy|Fossil|w/ CCS</td>\n",
       "      <td>EJ/yr</td>\n",
       "    </tr>\n",
       "    <tr>\n",
       "      <td>8</td>\n",
       "      <td>Temperature|Global Mean|MAGICC6|MED</td>\n",
       "      <td>°C</td>\n",
       "    </tr>\n",
       "  </tbody>\n",
       "</table>\n",
       "</div>"
      ],
      "text/plain": [
       "                                            variable           unit\n",
       "0                                      Emissions|CO2      Mt CO2/yr\n",
       "1            Emissions|CO2|Fossil Fuels and Industry      Mt CO2/yr\n",
       "3  Emissions|CO2|Fossil Fuels and Industry|Energy...      Mt CO2/yr\n",
       "4  Emissions|CO2|Fossil Fuels and Industry|Energy...      Mt CO2/yr\n",
       "5                                       Price|Carbon  US$2005/t CO2\n",
       "2                                     Primary Energy          EJ/yr\n",
       "6                                Primary Energy|Coal          EJ/yr\n",
       "7                       Primary Energy|Fossil|w/ CCS          EJ/yr\n",
       "8                Temperature|Global Mean|MAGICC6|MED             °C"
      ]
     },
     "execution_count": 8,
     "metadata": {},
     "output_type": "execute_result"
    }
   ],
   "source": [
    "df.variables(include_units=True)"
   ]
  },
  {
   "cell_type": "code",
   "execution_count": 9,
   "metadata": {},
   "outputs": [
    {
     "name": "stderr",
     "output_type": "stream",
     "text": [
      "WARNING:root:Filtered IamDataFrame is empty!\n"
     ]
    },
    {
     "data": {
      "text/plain": [
       "Series([], Name: model, dtype: object)"
      ]
     },
     "execution_count": 9,
     "metadata": {},
     "output_type": "execute_result"
    }
   ],
   "source": [
    "df.filter(model='MESSAGE').models()"
   ]
  },
  {
   "cell_type": "code",
   "execution_count": 10,
   "metadata": {},
   "outputs": [
    {
     "data": {
      "text/html": [
       "<div>\n",
       "<style scoped>\n",
       "    .dataframe tbody tr th:only-of-type {\n",
       "        vertical-align: middle;\n",
       "    }\n",
       "\n",
       "    .dataframe tbody tr th {\n",
       "        vertical-align: top;\n",
       "    }\n",
       "\n",
       "    .dataframe thead th {\n",
       "        text-align: right;\n",
       "    }\n",
       "</style>\n",
       "<table border=\"1\" class=\"dataframe\">\n",
       "  <thead>\n",
       "    <tr style=\"text-align: right;\">\n",
       "      <th></th>\n",
       "      <th>model</th>\n",
       "      <th>scenario</th>\n",
       "    </tr>\n",
       "  </thead>\n",
       "  <tbody>\n",
       "    <tr>\n",
       "      <td>3665</td>\n",
       "      <td>MESSAGE V.4</td>\n",
       "      <td>AMPERE3-450</td>\n",
       "    </tr>\n",
       "    <tr>\n",
       "      <td>3731</td>\n",
       "      <td>MESSAGE V.4</td>\n",
       "      <td>AMPERE3-450P-EU</td>\n",
       "    </tr>\n",
       "    <tr>\n",
       "      <td>3797</td>\n",
       "      <td>MESSAGE V.4</td>\n",
       "      <td>AMPERE3-550</td>\n",
       "    </tr>\n",
       "    <tr>\n",
       "      <td>3863</td>\n",
       "      <td>MESSAGE V.4</td>\n",
       "      <td>AMPERE3-RefPol</td>\n",
       "    </tr>\n",
       "    <tr>\n",
       "      <td>3929</td>\n",
       "      <td>MESSAGE V.4</td>\n",
       "      <td>EMF27-550-LimBio</td>\n",
       "    </tr>\n",
       "    <tr>\n",
       "      <td>4193</td>\n",
       "      <td>MESSAGE V.4</td>\n",
       "      <td>EMF27-Base-FullTech</td>\n",
       "    </tr>\n",
       "  </tbody>\n",
       "</table>\n",
       "</div>"
      ],
      "text/plain": [
       "            model             scenario\n",
       "3665  MESSAGE V.4          AMPERE3-450\n",
       "3731  MESSAGE V.4      AMPERE3-450P-EU\n",
       "3797  MESSAGE V.4          AMPERE3-550\n",
       "3863  MESSAGE V.4       AMPERE3-RefPol\n",
       "3929  MESSAGE V.4     EMF27-550-LimBio\n",
       "4193  MESSAGE V.4  EMF27-Base-FullTech"
      ]
     },
     "execution_count": 10,
     "metadata": {},
     "output_type": "execute_result"
    }
   ],
   "source": [
    "df.filter(model='MESSAGE*')[['model', 'scenario']].drop_duplicates()"
   ]
  },
  {
   "cell_type": "code",
   "execution_count": 11,
   "metadata": {},
   "outputs": [
    {
     "data": {
      "text/plain": [
       "0      ASIA\n",
       "1       LAM\n",
       "2       MAF\n",
       "3    OECD90\n",
       "4       REF\n",
       "Name: region, dtype: object"
      ]
     },
     "execution_count": 11,
     "metadata": {},
     "output_type": "execute_result"
    }
   ],
   "source": [
    "df.filter(region=\"World\", keep=False).regions()"
   ]
  },
  {
   "cell_type": "code",
   "execution_count": 12,
   "metadata": {},
   "outputs": [
    {
     "data": {
      "text/plain": [
       "0                                        Emissions|CO2\n",
       "1              Emissions|CO2|Fossil Fuels and Industry\n",
       "2    Emissions|CO2|Fossil Fuels and Industry|Energy...\n",
       "3    Emissions|CO2|Fossil Fuels and Industry|Energy...\n",
       "Name: variable, dtype: object"
      ]
     },
     "execution_count": 12,
     "metadata": {},
     "output_type": "execute_result"
    }
   ],
   "source": [
    "df.filter(variable='Emissions|*').variables()"
   ]
  },
  {
   "cell_type": "code",
   "execution_count": 13,
   "metadata": {},
   "outputs": [
    {
     "data": {
      "text/plain": [
       "0    Emissions|CO2|Fossil Fuels and Industry\n",
       "Name: variable, dtype: object"
      ]
     },
     "execution_count": 13,
     "metadata": {},
     "output_type": "execute_result"
    }
   ],
   "source": [
    "df.filter(variable='Emissions|*', level=1).variables()"
   ]
  },
  {
   "cell_type": "code",
   "execution_count": 14,
   "metadata": {},
   "outputs": [
    {
     "data": {
      "text/plain": [
       "0                              Emissions|CO2\n",
       "1    Emissions|CO2|Fossil Fuels and Industry\n",
       "Name: variable, dtype: object"
      ]
     },
     "execution_count": 14,
     "metadata": {},
     "output_type": "execute_result"
    }
   ],
   "source": [
    "df.filter(variable='Emissions|*', level='1-').variables()"
   ]
  },
  {
   "cell_type": "code",
   "execution_count": 15,
   "metadata": {},
   "outputs": [
    {
     "data": {
      "text/plain": [
       "0          Emissions|CO2\n",
       "1         Primary Energy\n",
       "2           Price|Carbon\n",
       "3    Primary Energy|Coal\n",
       "Name: variable, dtype: object"
      ]
     },
     "execution_count": 15,
     "metadata": {},
     "output_type": "execute_result"
    }
   ],
   "source": [
    "df.filter(level='1-').variables()"
   ]
  },
  {
   "cell_type": "code",
   "execution_count": 16,
   "metadata": {},
   "outputs": [],
   "source": [
    "df.filter?"
   ]
  },
  {
   "cell_type": "code",
   "execution_count": 17,
   "metadata": {},
   "outputs": [
    {
     "data": {
      "text/html": [
       "<div>\n",
       "<style scoped>\n",
       "    .dataframe tbody tr th:only-of-type {\n",
       "        vertical-align: middle;\n",
       "    }\n",
       "\n",
       "    .dataframe tbody tr th {\n",
       "        vertical-align: top;\n",
       "    }\n",
       "\n",
       "    .dataframe thead th {\n",
       "        text-align: right;\n",
       "    }\n",
       "</style>\n",
       "<table border=\"1\" class=\"dataframe\">\n",
       "  <thead>\n",
       "    <tr style=\"text-align: right;\">\n",
       "      <th></th>\n",
       "      <th></th>\n",
       "      <th></th>\n",
       "      <th></th>\n",
       "      <th></th>\n",
       "      <th>2005</th>\n",
       "      <th>2010</th>\n",
       "      <th>2020</th>\n",
       "      <th>2030</th>\n",
       "      <th>2040</th>\n",
       "      <th>2050</th>\n",
       "      <th>2060</th>\n",
       "      <th>2070</th>\n",
       "      <th>2080</th>\n",
       "      <th>2090</th>\n",
       "      <th>2100</th>\n",
       "    </tr>\n",
       "    <tr>\n",
       "      <th>model</th>\n",
       "      <th>scenario</th>\n",
       "      <th>region</th>\n",
       "      <th>variable</th>\n",
       "      <th>unit</th>\n",
       "      <th></th>\n",
       "      <th></th>\n",
       "      <th></th>\n",
       "      <th></th>\n",
       "      <th></th>\n",
       "      <th></th>\n",
       "      <th></th>\n",
       "      <th></th>\n",
       "      <th></th>\n",
       "      <th></th>\n",
       "      <th></th>\n",
       "    </tr>\n",
       "  </thead>\n",
       "  <tbody>\n",
       "    <tr>\n",
       "      <td>GCAM 3.0</td>\n",
       "      <td>AMPERE3-450</td>\n",
       "      <td>World</td>\n",
       "      <td>Primary Energy|Coal</td>\n",
       "      <td>EJ/yr</td>\n",
       "      <td>120.76</td>\n",
       "      <td>144.95</td>\n",
       "      <td>176.44</td>\n",
       "      <td>204.42</td>\n",
       "      <td>212.84</td>\n",
       "      <td>186.02</td>\n",
       "      <td>138.23</td>\n",
       "      <td>106.98</td>\n",
       "      <td>82.44</td>\n",
       "      <td>36.55</td>\n",
       "      <td>14.89</td>\n",
       "    </tr>\n",
       "    <tr>\n",
       "      <td>IMAGE 2.4</td>\n",
       "      <td>AMPERE3-450</td>\n",
       "      <td>World</td>\n",
       "      <td>Primary Energy|Coal</td>\n",
       "      <td>EJ/yr</td>\n",
       "      <td>111.62</td>\n",
       "      <td>138.69</td>\n",
       "      <td>148.60</td>\n",
       "      <td>121.24</td>\n",
       "      <td>102.62</td>\n",
       "      <td>101.41</td>\n",
       "      <td>111.41</td>\n",
       "      <td>138.40</td>\n",
       "      <td>181.03</td>\n",
       "      <td>224.03</td>\n",
       "      <td>264.77</td>\n",
       "    </tr>\n",
       "    <tr>\n",
       "      <td>MESSAGE V.4</td>\n",
       "      <td>AMPERE3-450</td>\n",
       "      <td>World</td>\n",
       "      <td>Primary Energy|Coal</td>\n",
       "      <td>EJ/yr</td>\n",
       "      <td>121.12</td>\n",
       "      <td>138.09</td>\n",
       "      <td>119.94</td>\n",
       "      <td>93.11</td>\n",
       "      <td>52.07</td>\n",
       "      <td>71.91</td>\n",
       "      <td>98.09</td>\n",
       "      <td>127.76</td>\n",
       "      <td>136.08</td>\n",
       "      <td>108.49</td>\n",
       "      <td>41.21</td>\n",
       "    </tr>\n",
       "    <tr>\n",
       "      <td>REMIND 1.5</td>\n",
       "      <td>AMPERE3-450</td>\n",
       "      <td>World</td>\n",
       "      <td>Primary Energy|Coal</td>\n",
       "      <td>EJ/yr</td>\n",
       "      <td>122.20</td>\n",
       "      <td>135.47</td>\n",
       "      <td>92.72</td>\n",
       "      <td>45.87</td>\n",
       "      <td>22.33</td>\n",
       "      <td>20.39</td>\n",
       "      <td>16.64</td>\n",
       "      <td>12.35</td>\n",
       "      <td>5.94</td>\n",
       "      <td>2.36</td>\n",
       "      <td>1.77</td>\n",
       "    </tr>\n",
       "  </tbody>\n",
       "</table>\n",
       "</div>"
      ],
      "text/plain": [
       "                                                            2005    2010  \\\n",
       "model       scenario    region variable            unit                    \n",
       "GCAM 3.0    AMPERE3-450 World  Primary Energy|Coal EJ/yr  120.76  144.95   \n",
       "IMAGE 2.4   AMPERE3-450 World  Primary Energy|Coal EJ/yr  111.62  138.69   \n",
       "MESSAGE V.4 AMPERE3-450 World  Primary Energy|Coal EJ/yr  121.12  138.09   \n",
       "REMIND 1.5  AMPERE3-450 World  Primary Energy|Coal EJ/yr  122.20  135.47   \n",
       "\n",
       "                                                            2020    2030  \\\n",
       "model       scenario    region variable            unit                    \n",
       "GCAM 3.0    AMPERE3-450 World  Primary Energy|Coal EJ/yr  176.44  204.42   \n",
       "IMAGE 2.4   AMPERE3-450 World  Primary Energy|Coal EJ/yr  148.60  121.24   \n",
       "MESSAGE V.4 AMPERE3-450 World  Primary Energy|Coal EJ/yr  119.94   93.11   \n",
       "REMIND 1.5  AMPERE3-450 World  Primary Energy|Coal EJ/yr   92.72   45.87   \n",
       "\n",
       "                                                            2040    2050  \\\n",
       "model       scenario    region variable            unit                    \n",
       "GCAM 3.0    AMPERE3-450 World  Primary Energy|Coal EJ/yr  212.84  186.02   \n",
       "IMAGE 2.4   AMPERE3-450 World  Primary Energy|Coal EJ/yr  102.62  101.41   \n",
       "MESSAGE V.4 AMPERE3-450 World  Primary Energy|Coal EJ/yr   52.07   71.91   \n",
       "REMIND 1.5  AMPERE3-450 World  Primary Energy|Coal EJ/yr   22.33   20.39   \n",
       "\n",
       "                                                            2060    2070  \\\n",
       "model       scenario    region variable            unit                    \n",
       "GCAM 3.0    AMPERE3-450 World  Primary Energy|Coal EJ/yr  138.23  106.98   \n",
       "IMAGE 2.4   AMPERE3-450 World  Primary Energy|Coal EJ/yr  111.41  138.40   \n",
       "MESSAGE V.4 AMPERE3-450 World  Primary Energy|Coal EJ/yr   98.09  127.76   \n",
       "REMIND 1.5  AMPERE3-450 World  Primary Energy|Coal EJ/yr   16.64   12.35   \n",
       "\n",
       "                                                            2080    2090  \\\n",
       "model       scenario    region variable            unit                    \n",
       "GCAM 3.0    AMPERE3-450 World  Primary Energy|Coal EJ/yr   82.44   36.55   \n",
       "IMAGE 2.4   AMPERE3-450 World  Primary Energy|Coal EJ/yr  181.03  224.03   \n",
       "MESSAGE V.4 AMPERE3-450 World  Primary Energy|Coal EJ/yr  136.08  108.49   \n",
       "REMIND 1.5  AMPERE3-450 World  Primary Energy|Coal EJ/yr    5.94    2.36   \n",
       "\n",
       "                                                            2100  \n",
       "model       scenario    region variable            unit           \n",
       "GCAM 3.0    AMPERE3-450 World  Primary Energy|Coal EJ/yr   14.89  \n",
       "IMAGE 2.4   AMPERE3-450 World  Primary Energy|Coal EJ/yr  264.77  \n",
       "MESSAGE V.4 AMPERE3-450 World  Primary Energy|Coal EJ/yr   41.21  \n",
       "REMIND 1.5  AMPERE3-450 World  Primary Energy|Coal EJ/yr    1.77  "
      ]
     },
     "execution_count": 17,
     "metadata": {},
     "output_type": "execute_result"
    }
   ],
   "source": [
    "(df\n",
    " .filter(scenario='AMPERE3-450', variable='Primary Energy|Coal', region='World')\n",
    " .timeseries()\n",
    ")"
   ]
  },
  {
   "cell_type": "code",
   "execution_count": 18,
   "metadata": {},
   "outputs": [
    {
     "data": {
      "text/html": [
       "<div>\n",
       "<style scoped>\n",
       "    .dataframe tbody tr th:only-of-type {\n",
       "        vertical-align: middle;\n",
       "    }\n",
       "\n",
       "    .dataframe tbody tr th {\n",
       "        vertical-align: top;\n",
       "    }\n",
       "\n",
       "    .dataframe thead th {\n",
       "        text-align: right;\n",
       "    }\n",
       "</style>\n",
       "<table border=\"1\" class=\"dataframe\">\n",
       "  <thead>\n",
       "    <tr style=\"text-align: right;\">\n",
       "      <th>scenario</th>\n",
       "      <th>AMPERE3-450</th>\n",
       "      <th>AMPERE3-450P-CE</th>\n",
       "      <th>AMPERE3-450P-EU</th>\n",
       "      <th>AMPERE3-550</th>\n",
       "      <th>AMPERE3-550P-EU</th>\n",
       "      <th>AMPERE3-Base-EUback</th>\n",
       "      <th>AMPERE3-CF450P-EU</th>\n",
       "      <th>AMPERE3-RefPol</th>\n",
       "      <th>EMF27-450-Conv</th>\n",
       "      <th>EMF27-450-NoCCS</th>\n",
       "      <th>EMF27-550-LimBio</th>\n",
       "      <th>EMF27-Base-FullTech</th>\n",
       "      <th>EMF27-G8-EERE</th>\n",
       "    </tr>\n",
       "    <tr>\n",
       "      <th>year</th>\n",
       "      <th></th>\n",
       "      <th></th>\n",
       "      <th></th>\n",
       "      <th></th>\n",
       "      <th></th>\n",
       "      <th></th>\n",
       "      <th></th>\n",
       "      <th></th>\n",
       "      <th></th>\n",
       "      <th></th>\n",
       "      <th></th>\n",
       "      <th></th>\n",
       "      <th></th>\n",
       "    </tr>\n",
       "  </thead>\n",
       "  <tbody>\n",
       "    <tr>\n",
       "      <td>2005</td>\n",
       "      <td>1821.09</td>\n",
       "      <td>1366.48</td>\n",
       "      <td>1821.09</td>\n",
       "      <td>1818.71</td>\n",
       "      <td>464.82</td>\n",
       "      <td>922.58</td>\n",
       "      <td>925.23</td>\n",
       "      <td>1818.44</td>\n",
       "      <td>2234.35</td>\n",
       "      <td>1381.84</td>\n",
       "      <td>3130.81</td>\n",
       "      <td>3130.60</td>\n",
       "      <td>868.79</td>\n",
       "    </tr>\n",
       "    <tr>\n",
       "      <td>2010</td>\n",
       "      <td>1972.13</td>\n",
       "      <td>1492.28</td>\n",
       "      <td>1972.02</td>\n",
       "      <td>1969.57</td>\n",
       "      <td>514.07</td>\n",
       "      <td>1015.78</td>\n",
       "      <td>1018.44</td>\n",
       "      <td>1969.50</td>\n",
       "      <td>2504.99</td>\n",
       "      <td>1542.90</td>\n",
       "      <td>3457.08</td>\n",
       "      <td>3459.28</td>\n",
       "      <td>985.16</td>\n",
       "    </tr>\n",
       "    <tr>\n",
       "      <td>2020</td>\n",
       "      <td>2253.49</td>\n",
       "      <td>1787.40</td>\n",
       "      <td>2399.41</td>\n",
       "      <td>2322.23</td>\n",
       "      <td>611.34</td>\n",
       "      <td>1258.24</td>\n",
       "      <td>1262.07</td>\n",
       "      <td>2401.37</td>\n",
       "      <td>2428.61</td>\n",
       "      <td>1424.26</td>\n",
       "      <td>3781.16</td>\n",
       "      <td>4135.65</td>\n",
       "      <td>947.08</td>\n",
       "    </tr>\n",
       "    <tr>\n",
       "      <td>2030</td>\n",
       "      <td>2530.95</td>\n",
       "      <td>2101.60</td>\n",
       "      <td>2863.85</td>\n",
       "      <td>2670.22</td>\n",
       "      <td>734.11</td>\n",
       "      <td>1532.12</td>\n",
       "      <td>1536.54</td>\n",
       "      <td>2869.96</td>\n",
       "      <td>2545.94</td>\n",
       "      <td>1470.64</td>\n",
       "      <td>4057.28</td>\n",
       "      <td>4846.37</td>\n",
       "      <td>933.08</td>\n",
       "    </tr>\n",
       "    <tr>\n",
       "      <td>2040</td>\n",
       "      <td>2795.47</td>\n",
       "      <td>2206.09</td>\n",
       "      <td>2940.96</td>\n",
       "      <td>3000.37</td>\n",
       "      <td>789.70</td>\n",
       "      <td>1802.62</td>\n",
       "      <td>1574.14</td>\n",
       "      <td>3305.70</td>\n",
       "      <td>2698.99</td>\n",
       "      <td>1670.51</td>\n",
       "      <td>4355.16</td>\n",
       "      <td>5588.19</td>\n",
       "      <td>1007.83</td>\n",
       "    </tr>\n",
       "    <tr>\n",
       "      <td>2050</td>\n",
       "      <td>3064.07</td>\n",
       "      <td>2348.02</td>\n",
       "      <td>3087.59</td>\n",
       "      <td>3312.70</td>\n",
       "      <td>815.79</td>\n",
       "      <td>2104.63</td>\n",
       "      <td>1652.02</td>\n",
       "      <td>3709.45</td>\n",
       "      <td>2759.41</td>\n",
       "      <td>1794.47</td>\n",
       "      <td>4586.40</td>\n",
       "      <td>6353.16</td>\n",
       "      <td>1075.16</td>\n",
       "    </tr>\n",
       "    <tr>\n",
       "      <td>2060</td>\n",
       "      <td>3321.63</td>\n",
       "      <td>2537.42</td>\n",
       "      <td>3317.84</td>\n",
       "      <td>3532.21</td>\n",
       "      <td>861.79</td>\n",
       "      <td>2359.38</td>\n",
       "      <td>1774.56</td>\n",
       "      <td>4056.44</td>\n",
       "      <td>2198.22</td>\n",
       "      <td>1257.99</td>\n",
       "      <td>4164.92</td>\n",
       "      <td>6172.01</td>\n",
       "      <td>531.36</td>\n",
       "    </tr>\n",
       "    <tr>\n",
       "      <td>2070</td>\n",
       "      <td>3512.57</td>\n",
       "      <td>2683.30</td>\n",
       "      <td>3526.56</td>\n",
       "      <td>3722.65</td>\n",
       "      <td>901.57</td>\n",
       "      <td>2564.68</td>\n",
       "      <td>1912.48</td>\n",
       "      <td>4391.18</td>\n",
       "      <td>2240.64</td>\n",
       "      <td>1344.42</td>\n",
       "      <td>4430.28</td>\n",
       "      <td>6768.95</td>\n",
       "      <td>563.62</td>\n",
       "    </tr>\n",
       "    <tr>\n",
       "      <td>2080</td>\n",
       "      <td>3689.77</td>\n",
       "      <td>2824.81</td>\n",
       "      <td>3724.06</td>\n",
       "      <td>3926.94</td>\n",
       "      <td>943.47</td>\n",
       "      <td>2708.68</td>\n",
       "      <td>2033.99</td>\n",
       "      <td>4700.20</td>\n",
       "      <td>2256.69</td>\n",
       "      <td>1461.97</td>\n",
       "      <td>4690.79</td>\n",
       "      <td>7288.74</td>\n",
       "      <td>568.90</td>\n",
       "    </tr>\n",
       "    <tr>\n",
       "      <td>2090</td>\n",
       "      <td>3946.92</td>\n",
       "      <td>3025.65</td>\n",
       "      <td>3962.55</td>\n",
       "      <td>4120.64</td>\n",
       "      <td>964.16</td>\n",
       "      <td>2775.73</td>\n",
       "      <td>2190.16</td>\n",
       "      <td>4959.63</td>\n",
       "      <td>2259.28</td>\n",
       "      <td>1576.82</td>\n",
       "      <td>4965.55</td>\n",
       "      <td>7653.56</td>\n",
       "      <td>550.30</td>\n",
       "    </tr>\n",
       "    <tr>\n",
       "      <td>2100</td>\n",
       "      <td>4263.04</td>\n",
       "      <td>3281.83</td>\n",
       "      <td>4272.05</td>\n",
       "      <td>4387.84</td>\n",
       "      <td>1005.66</td>\n",
       "      <td>2879.44</td>\n",
       "      <td>2403.99</td>\n",
       "      <td>5217.67</td>\n",
       "      <td>2246.02</td>\n",
       "      <td>1729.13</td>\n",
       "      <td>5188.70</td>\n",
       "      <td>7983.73</td>\n",
       "      <td>563.39</td>\n",
       "    </tr>\n",
       "  </tbody>\n",
       "</table>\n",
       "</div>"
      ],
      "text/plain": [
       "scenario  AMPERE3-450  AMPERE3-450P-CE  AMPERE3-450P-EU  AMPERE3-550  \\\n",
       "year                                                                   \n",
       "2005          1821.09          1366.48          1821.09      1818.71   \n",
       "2010          1972.13          1492.28          1972.02      1969.57   \n",
       "2020          2253.49          1787.40          2399.41      2322.23   \n",
       "2030          2530.95          2101.60          2863.85      2670.22   \n",
       "2040          2795.47          2206.09          2940.96      3000.37   \n",
       "2050          3064.07          2348.02          3087.59      3312.70   \n",
       "2060          3321.63          2537.42          3317.84      3532.21   \n",
       "2070          3512.57          2683.30          3526.56      3722.65   \n",
       "2080          3689.77          2824.81          3724.06      3926.94   \n",
       "2090          3946.92          3025.65          3962.55      4120.64   \n",
       "2100          4263.04          3281.83          4272.05      4387.84   \n",
       "\n",
       "scenario  AMPERE3-550P-EU  AMPERE3-Base-EUback  AMPERE3-CF450P-EU  \\\n",
       "year                                                                \n",
       "2005               464.82               922.58             925.23   \n",
       "2010               514.07              1015.78            1018.44   \n",
       "2020               611.34              1258.24            1262.07   \n",
       "2030               734.11              1532.12            1536.54   \n",
       "2040               789.70              1802.62            1574.14   \n",
       "2050               815.79              2104.63            1652.02   \n",
       "2060               861.79              2359.38            1774.56   \n",
       "2070               901.57              2564.68            1912.48   \n",
       "2080               943.47              2708.68            2033.99   \n",
       "2090               964.16              2775.73            2190.16   \n",
       "2100              1005.66              2879.44            2403.99   \n",
       "\n",
       "scenario  AMPERE3-RefPol  EMF27-450-Conv  EMF27-450-NoCCS  EMF27-550-LimBio  \\\n",
       "year                                                                          \n",
       "2005             1818.44         2234.35          1381.84           3130.81   \n",
       "2010             1969.50         2504.99          1542.90           3457.08   \n",
       "2020             2401.37         2428.61          1424.26           3781.16   \n",
       "2030             2869.96         2545.94          1470.64           4057.28   \n",
       "2040             3305.70         2698.99          1670.51           4355.16   \n",
       "2050             3709.45         2759.41          1794.47           4586.40   \n",
       "2060             4056.44         2198.22          1257.99           4164.92   \n",
       "2070             4391.18         2240.64          1344.42           4430.28   \n",
       "2080             4700.20         2256.69          1461.97           4690.79   \n",
       "2090             4959.63         2259.28          1576.82           4965.55   \n",
       "2100             5217.67         2246.02          1729.13           5188.70   \n",
       "\n",
       "scenario  EMF27-Base-FullTech  EMF27-G8-EERE  \n",
       "year                                          \n",
       "2005                  3130.60         868.79  \n",
       "2010                  3459.28         985.16  \n",
       "2020                  4135.65         947.08  \n",
       "2030                  4846.37         933.08  \n",
       "2040                  5588.19        1007.83  \n",
       "2050                  6353.16        1075.16  \n",
       "2060                  6172.01         531.36  \n",
       "2070                  6768.95         563.62  \n",
       "2080                  7288.74         568.90  \n",
       "2090                  7653.56         550.30  \n",
       "2100                  7983.73         563.39  "
      ]
     },
     "execution_count": 18,
     "metadata": {},
     "output_type": "execute_result"
    }
   ],
   "source": [
    "(df\n",
    " .filter(variable='Primary Energy', region='World')\n",
    " .pivot_table(index=['year'], columns=['scenario'], values='value', aggfunc='sum')\n",
    ")"
   ]
  },
  {
   "cell_type": "code",
   "execution_count": 19,
   "metadata": {},
   "outputs": [
    {
     "data": {
      "text/html": [
       "<div>\n",
       "<style scoped>\n",
       "    .dataframe tbody tr th:only-of-type {\n",
       "        vertical-align: middle;\n",
       "    }\n",
       "\n",
       "    .dataframe tbody tr th {\n",
       "        vertical-align: top;\n",
       "    }\n",
       "\n",
       "    .dataframe thead th {\n",
       "        text-align: right;\n",
       "    }\n",
       "</style>\n",
       "<table border=\"1\" class=\"dataframe\">\n",
       "  <thead>\n",
       "    <tr style=\"text-align: right;\">\n",
       "      <th></th>\n",
       "      <th>model</th>\n",
       "      <th>scenario</th>\n",
       "      <th>region</th>\n",
       "      <th>variable</th>\n",
       "      <th>unit</th>\n",
       "      <th>year</th>\n",
       "      <th>value</th>\n",
       "    </tr>\n",
       "  </thead>\n",
       "  <tbody>\n",
       "    <tr>\n",
       "      <td>0</td>\n",
       "      <td>AIM-Enduse 12.1</td>\n",
       "      <td>EMF27-450-Conv</td>\n",
       "      <td>ASIA</td>\n",
       "      <td>Emissions|CO2</td>\n",
       "      <td>Mt CO2/yr</td>\n",
       "      <td>2005</td>\n",
       "      <td>10540.74</td>\n",
       "    </tr>\n",
       "    <tr>\n",
       "      <td>1</td>\n",
       "      <td>AIM-Enduse 12.1</td>\n",
       "      <td>EMF27-450-Conv</td>\n",
       "      <td>ASIA</td>\n",
       "      <td>Emissions|CO2</td>\n",
       "      <td>Mt CO2/yr</td>\n",
       "      <td>2010</td>\n",
       "      <td>13160.18</td>\n",
       "    </tr>\n",
       "    <tr>\n",
       "      <td>2</td>\n",
       "      <td>AIM-Enduse 12.1</td>\n",
       "      <td>EMF27-450-Conv</td>\n",
       "      <td>ASIA</td>\n",
       "      <td>Emissions|CO2</td>\n",
       "      <td>Mt CO2/yr</td>\n",
       "      <td>2020</td>\n",
       "      <td>11899.38</td>\n",
       "    </tr>\n",
       "    <tr>\n",
       "      <td>3</td>\n",
       "      <td>AIM-Enduse 12.1</td>\n",
       "      <td>EMF27-450-Conv</td>\n",
       "      <td>ASIA</td>\n",
       "      <td>Emissions|CO2</td>\n",
       "      <td>Mt CO2/yr</td>\n",
       "      <td>2030</td>\n",
       "      <td>9545.81</td>\n",
       "    </tr>\n",
       "    <tr>\n",
       "      <td>4</td>\n",
       "      <td>AIM-Enduse 12.1</td>\n",
       "      <td>EMF27-450-Conv</td>\n",
       "      <td>ASIA</td>\n",
       "      <td>Emissions|CO2</td>\n",
       "      <td>Mt CO2/yr</td>\n",
       "      <td>2040</td>\n",
       "      <td>7355.07</td>\n",
       "    </tr>\n",
       "  </tbody>\n",
       "</table>\n",
       "</div>"
      ],
      "text/plain": [
       "             model        scenario region       variable       unit  year  \\\n",
       "0  AIM-Enduse 12.1  EMF27-450-Conv   ASIA  Emissions|CO2  Mt CO2/yr  2005   \n",
       "1  AIM-Enduse 12.1  EMF27-450-Conv   ASIA  Emissions|CO2  Mt CO2/yr  2010   \n",
       "2  AIM-Enduse 12.1  EMF27-450-Conv   ASIA  Emissions|CO2  Mt CO2/yr  2020   \n",
       "3  AIM-Enduse 12.1  EMF27-450-Conv   ASIA  Emissions|CO2  Mt CO2/yr  2030   \n",
       "4  AIM-Enduse 12.1  EMF27-450-Conv   ASIA  Emissions|CO2  Mt CO2/yr  2040   \n",
       "\n",
       "      value  \n",
       "0  10540.74  \n",
       "1  13160.18  \n",
       "2  11899.38  \n",
       "3   9545.81  \n",
       "4   7355.07  "
      ]
     },
     "execution_count": 19,
     "metadata": {},
     "output_type": "execute_result"
    }
   ],
   "source": [
    "df.head()"
   ]
  },
  {
   "cell_type": "code",
   "execution_count": 20,
   "metadata": {},
   "outputs": [
    {
     "data": {
      "text/plain": [
       "<matplotlib.axes._subplots.AxesSubplot at 0x192c79d0548>"
      ]
     },
     "execution_count": 20,
     "metadata": {},
     "output_type": "execute_result"
    },
    {
     "data": {
      "image/png": "[encoded data removed]",
      "text/plain": [
       "<Figure size 432x288 with 1 Axes>"
      ]
     },
     "metadata": {
      "needs_background": "light"
     },
     "output_type": "display_data"
    }
   ],
   "source": [
    "df.filter(variable='Emissions|CO2', region='World').line_plot(legend=False)"
   ]
  },
  {
   "cell_type": "code",
   "execution_count": 21,
   "metadata": {},
   "outputs": [
    {
     "name": "stderr",
     "output_type": "stream",
     "text": [
      "INFO:root:All scenarios have the required variable `Primary Energy`\n"
     ]
    }
   ],
   "source": [
    "df.require_variable(variable='Primary Energy')"
   ]
  },
  {
   "cell_type": "code",
   "execution_count": 22,
   "metadata": {},
   "outputs": [
    {
     "name": "stderr",
     "output_type": "stream",
     "text": [
      "INFO:root:9 of 6622 data points do not satisfy the criteria\n"
     ]
    },
    {
     "data": {
      "text/html": [
       "<div>\n",
       "<style scoped>\n",
       "    .dataframe tbody tr th:only-of-type {\n",
       "        vertical-align: middle;\n",
       "    }\n",
       "\n",
       "    .dataframe tbody tr th {\n",
       "        vertical-align: top;\n",
       "    }\n",
       "\n",
       "    .dataframe thead th {\n",
       "        text-align: right;\n",
       "    }\n",
       "</style>\n",
       "<table border=\"1\" class=\"dataframe\">\n",
       "  <thead>\n",
       "    <tr style=\"text-align: right;\">\n",
       "      <th></th>\n",
       "      <th>model</th>\n",
       "      <th>scenario</th>\n",
       "      <th>region</th>\n",
       "      <th>variable</th>\n",
       "      <th>unit</th>\n",
       "      <th>year</th>\n",
       "      <th>value</th>\n",
       "    </tr>\n",
       "  </thead>\n",
       "  <tbody>\n",
       "    <tr>\n",
       "      <td>121</td>\n",
       "      <td>AIM-Enduse 12.1</td>\n",
       "      <td>EMF27-450-Conv</td>\n",
       "      <td>World</td>\n",
       "      <td>Primary Energy</td>\n",
       "      <td>EJ/yr</td>\n",
       "      <td>2010</td>\n",
       "      <td>518.89</td>\n",
       "    </tr>\n",
       "    <tr>\n",
       "      <td>259</td>\n",
       "      <td>AIM-Enduse 12.1</td>\n",
       "      <td>EMF27-450-NoCCS</td>\n",
       "      <td>World</td>\n",
       "      <td>Primary Energy</td>\n",
       "      <td>EJ/yr</td>\n",
       "      <td>2010</td>\n",
       "      <td>518.81</td>\n",
       "    </tr>\n",
       "    <tr>\n",
       "      <td>397</td>\n",
       "      <td>AIM-Enduse 12.1</td>\n",
       "      <td>EMF27-550-LimBio</td>\n",
       "      <td>World</td>\n",
       "      <td>Primary Energy</td>\n",
       "      <td>EJ/yr</td>\n",
       "      <td>2010</td>\n",
       "      <td>518.81</td>\n",
       "    </tr>\n",
       "    <tr>\n",
       "      <td>535</td>\n",
       "      <td>AIM-Enduse 12.1</td>\n",
       "      <td>EMF27-Base-FullTech</td>\n",
       "      <td>World</td>\n",
       "      <td>Primary Energy</td>\n",
       "      <td>EJ/yr</td>\n",
       "      <td>2010</td>\n",
       "      <td>518.81</td>\n",
       "    </tr>\n",
       "    <tr>\n",
       "      <td>673</td>\n",
       "      <td>AIM-Enduse 12.1</td>\n",
       "      <td>EMF27-G8-EERE</td>\n",
       "      <td>World</td>\n",
       "      <td>Primary Energy</td>\n",
       "      <td>EJ/yr</td>\n",
       "      <td>2010</td>\n",
       "      <td>518.64</td>\n",
       "    </tr>\n",
       "    <tr>\n",
       "      <td>5154</td>\n",
       "      <td>REMIND 1.5</td>\n",
       "      <td>EMF27-450-Conv</td>\n",
       "      <td>World</td>\n",
       "      <td>Primary Energy</td>\n",
       "      <td>EJ/yr</td>\n",
       "      <td>2010</td>\n",
       "      <td>519.64</td>\n",
       "    </tr>\n",
       "    <tr>\n",
       "      <td>5384</td>\n",
       "      <td>REMIND 1.5</td>\n",
       "      <td>EMF27-450-NoCCS</td>\n",
       "      <td>World</td>\n",
       "      <td>Primary Energy</td>\n",
       "      <td>EJ/yr</td>\n",
       "      <td>2010</td>\n",
       "      <td>519.64</td>\n",
       "    </tr>\n",
       "    <tr>\n",
       "      <td>5614</td>\n",
       "      <td>REMIND 1.5</td>\n",
       "      <td>EMF27-550-LimBio</td>\n",
       "      <td>World</td>\n",
       "      <td>Primary Energy</td>\n",
       "      <td>EJ/yr</td>\n",
       "      <td>2010</td>\n",
       "      <td>519.64</td>\n",
       "    </tr>\n",
       "    <tr>\n",
       "      <td>5835</td>\n",
       "      <td>REMIND 1.5</td>\n",
       "      <td>EMF27-Base-FullTech</td>\n",
       "      <td>World</td>\n",
       "      <td>Primary Energy</td>\n",
       "      <td>EJ/yr</td>\n",
       "      <td>2010</td>\n",
       "      <td>519.64</td>\n",
       "    </tr>\n",
       "  </tbody>\n",
       "</table>\n",
       "</div>"
      ],
      "text/plain": [
       "                model             scenario region        variable   unit  \\\n",
       "121   AIM-Enduse 12.1       EMF27-450-Conv  World  Primary Energy  EJ/yr   \n",
       "259   AIM-Enduse 12.1      EMF27-450-NoCCS  World  Primary Energy  EJ/yr   \n",
       "397   AIM-Enduse 12.1     EMF27-550-LimBio  World  Primary Energy  EJ/yr   \n",
       "535   AIM-Enduse 12.1  EMF27-Base-FullTech  World  Primary Energy  EJ/yr   \n",
       "673   AIM-Enduse 12.1        EMF27-G8-EERE  World  Primary Energy  EJ/yr   \n",
       "5154       REMIND 1.5       EMF27-450-Conv  World  Primary Energy  EJ/yr   \n",
       "5384       REMIND 1.5      EMF27-450-NoCCS  World  Primary Energy  EJ/yr   \n",
       "5614       REMIND 1.5     EMF27-550-LimBio  World  Primary Energy  EJ/yr   \n",
       "5835       REMIND 1.5  EMF27-Base-FullTech  World  Primary Energy  EJ/yr   \n",
       "\n",
       "      year   value  \n",
       "121   2010  518.89  \n",
       "259   2010  518.81  \n",
       "397   2010  518.81  \n",
       "535   2010  518.81  \n",
       "673   2010  518.64  \n",
       "5154  2010  519.64  \n",
       "5384  2010  519.64  \n",
       "5614  2010  519.64  \n",
       "5835  2010  519.64  "
      ]
     },
     "execution_count": 22,
     "metadata": {},
     "output_type": "execute_result"
    }
   ],
   "source": [
    "df.validate(criteria={'Primary Energy': {'up': 515, 'year': 2010}})"
   ]
  },
  {
   "cell_type": "code",
   "execution_count": 23,
   "metadata": {},
   "outputs": [
    {
     "name": "stderr",
     "output_type": "stream",
     "text": [
      "INFO:root:1 of 1566 data points do not satisfy the criteria\n"
     ]
    },
    {
     "data": {
      "text/html": [
       "<div>\n",
       "<style scoped>\n",
       "    .dataframe tbody tr th:only-of-type {\n",
       "        vertical-align: middle;\n",
       "    }\n",
       "\n",
       "    .dataframe tbody tr th {\n",
       "        vertical-align: top;\n",
       "    }\n",
       "\n",
       "    .dataframe thead th {\n",
       "        text-align: right;\n",
       "    }\n",
       "</style>\n",
       "<table border=\"1\" class=\"dataframe\">\n",
       "  <thead>\n",
       "    <tr style=\"text-align: right;\">\n",
       "      <th></th>\n",
       "      <th>model</th>\n",
       "      <th>scenario</th>\n",
       "      <th>region</th>\n",
       "      <th>variable</th>\n",
       "      <th>unit</th>\n",
       "      <th>year</th>\n",
       "      <th>value</th>\n",
       "    </tr>\n",
       "  </thead>\n",
       "  <tbody>\n",
       "    <tr>\n",
       "      <td>992</td>\n",
       "      <td>GCAM 3.0</td>\n",
       "      <td>AMPERE3-Base-EUback</td>\n",
       "      <td>World</td>\n",
       "      <td>Primary Energy|Coal</td>\n",
       "      <td>EJ/yr</td>\n",
       "      <td>2050</td>\n",
       "      <td>424.09</td>\n",
       "    </tr>\n",
       "  </tbody>\n",
       "</table>\n",
       "</div>"
      ],
      "text/plain": [
       "        model             scenario region             variable   unit  year  \\\n",
       "992  GCAM 3.0  AMPERE3-Base-EUback  World  Primary Energy|Coal  EJ/yr  2050   \n",
       "\n",
       "      value  \n",
       "992  424.09  "
      ]
     },
     "execution_count": 23,
     "metadata": {},
     "output_type": "execute_result"
    }
   ],
   "source": [
    "pyam.validate(df.filter(region='World', scenario='AMPERE*'),\n",
    "              criteria={'Primary Energy|Coal': {'up': 400, 'year': 2050}}\n",
    ")"
   ]
  },
  {
   "cell_type": "code",
   "execution_count": 24,
   "metadata": {},
   "outputs": [
    {
     "data": {
      "text/plain": [
       "<matplotlib.axes._subplots.AxesSubplot at 0x192c7fceec8>"
      ]
     },
     "execution_count": 24,
     "metadata": {},
     "output_type": "execute_result"
    },
    {
     "data": {
      "image/png": "[encoded data removed]",
      "text/plain": [
       "<Figure size 432x288 with 1 Axes>"
      ]
     },
     "metadata": {
      "needs_background": "light"
     },
     "output_type": "display_data"
    }
   ],
   "source": [
    "v = 'Temperature|Global Mean|MAGICC6|MED'\n",
    "df.filter(region='World', variable=v).line_plot(legend=False)"
   ]
  },
  {
   "cell_type": "code",
   "execution_count": 25,
   "metadata": {},
   "outputs": [],
   "source": [
    "df.set_meta(meta='uncategorized', name='Temperature')"
   ]
  },
  {
   "cell_type": "code",
   "execution_count": 26,
   "metadata": {},
   "outputs": [
    {
     "name": "stderr",
     "output_type": "stream",
     "text": [
      "INFO:root:4 scenarios categorized as `Temperature: Below 1.6C`\n"
     ]
    }
   ],
   "source": [
    "df.categorize(\n",
    "    'Temperature', 'Below 1.6C',\n",
    "    criteria={v: {'up': 1.6, 'year': 2100}},\n",
    "    color='cornflowerblue'\n",
    ")"
   ]
  },
  {
   "cell_type": "code",
   "execution_count": 27,
   "metadata": {},
   "outputs": [
    {
     "name": "stderr",
     "output_type": "stream",
     "text": [
      "INFO:root:8 scenarios categorized as `Temperature: Below 2.0C`\n"
     ]
    }
   ],
   "source": [
    "df.categorize(\n",
    "    'Temperature', 'Below 2.0C',\n",
    "    criteria={'Temperature|Global Mean|MAGICC6|MED': {'up': 2.0, 'lo': 1.6, 'year': 2100}},\n",
    "    color='forestgreen'\n",
    ")"
   ]
  },
  {
   "cell_type": "code",
   "execution_count": 28,
   "metadata": {},
   "outputs": [
    {
     "name": "stderr",
     "output_type": "stream",
     "text": [
      "INFO:root:16 scenarios categorized as `Temperature: Below 2.5C`\n"
     ]
    }
   ],
   "source": [
    "df.categorize(\n",
    "    'Temperature', 'Below 2.5C',\n",
    "    criteria={v: {'up': 2.5, 'lo': 2.0, 'year': 2100}},\n",
    "    color='gold'\n",
    ")"
   ]
  },
  {
   "cell_type": "code",
   "execution_count": 29,
   "metadata": {},
   "outputs": [
    {
     "name": "stderr",
     "output_type": "stream",
     "text": [
      "INFO:root:3 scenarios categorized as `Temperature: Below 3.5C`\n"
     ]
    }
   ],
   "source": [
    "df.categorize(\n",
    "    'Temperature', 'Below 3.5C',\n",
    "     criteria={v: {'up': 3.5, 'lo': 2.5, 'year': 2100}},\n",
    "     color='firebrick'\n",
    ")"
   ]
  },
  {
   "cell_type": "code",
   "execution_count": 30,
   "metadata": {},
   "outputs": [
    {
     "name": "stderr",
     "output_type": "stream",
     "text": [
      "INFO:root:9 scenarios categorized as `Temperature: Above 3.5C`\n"
     ]
    }
   ],
   "source": [
    "df.categorize(\n",
    "    'Temperature', 'Above 3.5C',\n",
    "    criteria={v: {'lo': 3.5, 'year': 2100}},\n",
    "    color='magenta'\n",
    ")"
   ]
  },
  {
   "cell_type": "code",
   "execution_count": 31,
   "metadata": {},
   "outputs": [
    {
     "name": "stderr",
     "output_type": "stream",
     "text": [
      "INFO:root:8 scenarios do not include required variable `Temperature|Global Mean|MAGICC6|MED`\n"
     ]
    },
    {
     "data": {
      "text/html": [
       "<div>\n",
       "<style scoped>\n",
       "    .dataframe tbody tr th:only-of-type {\n",
       "        vertical-align: middle;\n",
       "    }\n",
       "\n",
       "    .dataframe tbody tr th {\n",
       "        vertical-align: top;\n",
       "    }\n",
       "\n",
       "    .dataframe thead th {\n",
       "        text-align: right;\n",
       "    }\n",
       "</style>\n",
       "<table border=\"1\" class=\"dataframe\">\n",
       "  <thead>\n",
       "    <tr style=\"text-align: right;\">\n",
       "      <th></th>\n",
       "      <th>model</th>\n",
       "      <th>scenario</th>\n",
       "    </tr>\n",
       "  </thead>\n",
       "  <tbody>\n",
       "    <tr>\n",
       "      <td>0</td>\n",
       "      <td>AIM-Enduse 12.1</td>\n",
       "      <td>EMF27-450-Conv</td>\n",
       "    </tr>\n",
       "    <tr>\n",
       "      <td>1</td>\n",
       "      <td>AIM-Enduse 12.1</td>\n",
       "      <td>EMF27-450-NoCCS</td>\n",
       "    </tr>\n",
       "    <tr>\n",
       "      <td>2</td>\n",
       "      <td>AIM-Enduse 12.1</td>\n",
       "      <td>EMF27-550-LimBio</td>\n",
       "    </tr>\n",
       "    <tr>\n",
       "      <td>3</td>\n",
       "      <td>AIM-Enduse 12.1</td>\n",
       "      <td>EMF27-Base-FullTech</td>\n",
       "    </tr>\n",
       "    <tr>\n",
       "      <td>4</td>\n",
       "      <td>AIM-Enduse 12.1</td>\n",
       "      <td>EMF27-G8-EERE</td>\n",
       "    </tr>\n",
       "    <tr>\n",
       "      <td>5</td>\n",
       "      <td>WITCH_EMF27</td>\n",
       "      <td>EMF27-450-Conv</td>\n",
       "    </tr>\n",
       "    <tr>\n",
       "      <td>6</td>\n",
       "      <td>WITCH_EMF27</td>\n",
       "      <td>EMF27-550-LimBio</td>\n",
       "    </tr>\n",
       "    <tr>\n",
       "      <td>7</td>\n",
       "      <td>WITCH_EMF27</td>\n",
       "      <td>EMF27-Base-FullTech</td>\n",
       "    </tr>\n",
       "  </tbody>\n",
       "</table>\n",
       "</div>"
      ],
      "text/plain": [
       "             model             scenario\n",
       "0  AIM-Enduse 12.1       EMF27-450-Conv\n",
       "1  AIM-Enduse 12.1      EMF27-450-NoCCS\n",
       "2  AIM-Enduse 12.1     EMF27-550-LimBio\n",
       "3  AIM-Enduse 12.1  EMF27-Base-FullTech\n",
       "4  AIM-Enduse 12.1        EMF27-G8-EERE\n",
       "5      WITCH_EMF27       EMF27-450-Conv\n",
       "6      WITCH_EMF27     EMF27-550-LimBio\n",
       "7      WITCH_EMF27  EMF27-Base-FullTech"
      ]
     },
     "execution_count": 31,
     "metadata": {},
     "output_type": "execute_result"
    }
   ],
   "source": [
    "df.require_variable(variable=v, exclude_on_fail=False)"
   ]
  },
  {
   "cell_type": "code",
   "execution_count": 32,
   "metadata": {},
   "outputs": [
    {
     "data": {
      "text/plain": [
       "<matplotlib.axes._subplots.AxesSubplot at 0x192c80df148>"
      ]
     },
     "execution_count": 32,
     "metadata": {},
     "output_type": "execute_result"
    },
    {
     "data": {
      "image/png": "[encoded data removed]",
      "text/plain": [
       "<Figure size 432x288 with 1 Axes>"
      ]
     },
     "metadata": {
      "needs_background": "light"
     },
     "output_type": "display_data"
    }
   ],
   "source": [
    "df.filter(variable=v).line_plot(color='Temperature', legend=True)"
   ]
  },
  {
   "cell_type": "code",
   "execution_count": 33,
   "metadata": {},
   "outputs": [
    {
     "data": {
      "image/png": "[encoded data removed]",
      "text/plain": [
       "<Figure size 432x288 with 1 Axes>"
      ]
     },
     "metadata": {
      "needs_background": "light"
     },
     "output_type": "display_data"
    }
   ],
   "source": [
    "fig, ax = plt.subplots()\n",
    "(df\n",
    " .filter(variable='Emissions|CO2', region='World')\n",
    " .line_plot(ax=ax, color='Temperature', legend=True)\n",
    ")\n",
    "fig.savefig('co2_emissions.png')"
   ]
  },
  {
   "cell_type": "code",
   "execution_count": 34,
   "metadata": {},
   "outputs": [
    {
     "name": "stderr",
     "output_type": "stream",
     "text": [
      "INFO:numexpr.utils:Note: NumExpr detected 16 cores but \"NUMEXPR_MAX_THREADS\" not set, so enforcing safe limit of 8.\n",
      "INFO:numexpr.utils:NumExpr defaulting to 8 threads.\n"
     ]
    }
   ],
   "source": [
    "eoc = 'End-of-century-temperature'\n",
    "df.set_meta_from_data(name='End-of-century-temperature', variable=v, year=2100)"
   ]
  },
  {
   "cell_type": "code",
   "execution_count": 35,
   "metadata": {},
   "outputs": [],
   "source": [
    "peak = 'Peak-temperature'\n",
    "df.set_meta_from_data(name='Peak-temperature', variable=v, method=np.max)"
   ]
  },
  {
   "cell_type": "code",
   "execution_count": 36,
   "metadata": {},
   "outputs": [],
   "source": [
    "overshoot = df.meta[peak] - df.meta[eoc]"
   ]
  },
  {
   "cell_type": "code",
   "execution_count": 37,
   "metadata": {},
   "outputs": [],
   "source": [
    "df.set_meta(name='Overshoot', meta=overshoot)"
   ]
  },
  {
   "cell_type": "code",
   "execution_count": 38,
   "metadata": {},
   "outputs": [
    {
     "data": {
      "text/html": [
       "<div>\n",
       "<style scoped>\n",
       "    .dataframe tbody tr th:only-of-type {\n",
       "        vertical-align: middle;\n",
       "    }\n",
       "\n",
       "    .dataframe tbody tr th {\n",
       "        vertical-align: top;\n",
       "    }\n",
       "\n",
       "    .dataframe thead th {\n",
       "        text-align: right;\n",
       "    }\n",
       "</style>\n",
       "<table border=\"1\" class=\"dataframe\">\n",
       "  <thead>\n",
       "    <tr style=\"text-align: right;\">\n",
       "      <th></th>\n",
       "      <th></th>\n",
       "      <th>exclude</th>\n",
       "      <th>Temperature</th>\n",
       "      <th>End-of-century-temperature</th>\n",
       "      <th>Peak-temperature</th>\n",
       "      <th>Overshoot</th>\n",
       "    </tr>\n",
       "    <tr>\n",
       "      <th>model</th>\n",
       "      <th>scenario</th>\n",
       "      <th></th>\n",
       "      <th></th>\n",
       "      <th></th>\n",
       "      <th></th>\n",
       "      <th></th>\n",
       "    </tr>\n",
       "  </thead>\n",
       "  <tbody>\n",
       "    <tr>\n",
       "      <td>GCAM 3.0</td>\n",
       "      <td>EMF27-550-LimBio</td>\n",
       "      <td>False</td>\n",
       "      <td>Below 2.0C</td>\n",
       "      <td>1.89</td>\n",
       "      <td>1.89</td>\n",
       "      <td>0.00</td>\n",
       "    </tr>\n",
       "    <tr>\n",
       "      <td rowspan=\"2\" valign=\"top\">IMAGE 2.4</td>\n",
       "      <td>AMPERE3-450</td>\n",
       "      <td>False</td>\n",
       "      <td>Below 2.0C</td>\n",
       "      <td>1.78</td>\n",
       "      <td>1.84</td>\n",
       "      <td>0.06</td>\n",
       "    </tr>\n",
       "    <tr>\n",
       "      <td>AMPERE3-450P-CE</td>\n",
       "      <td>False</td>\n",
       "      <td>Below 2.0C</td>\n",
       "      <td>1.95</td>\n",
       "      <td>2.01</td>\n",
       "      <td>0.06</td>\n",
       "    </tr>\n",
       "    <tr>\n",
       "      <td rowspan=\"2\" valign=\"top\">MERGE_EMF27</td>\n",
       "      <td>EMF27-450-Conv</td>\n",
       "      <td>False</td>\n",
       "      <td>Below 2.0C</td>\n",
       "      <td>1.66</td>\n",
       "      <td>1.66</td>\n",
       "      <td>0.00</td>\n",
       "    </tr>\n",
       "    <tr>\n",
       "      <td>EMF27-G8-EERE</td>\n",
       "      <td>False</td>\n",
       "      <td>Below 2.0C</td>\n",
       "      <td>1.95</td>\n",
       "      <td>1.95</td>\n",
       "      <td>0.00</td>\n",
       "    </tr>\n",
       "  </tbody>\n",
       "</table>\n",
       "</div>"
      ],
      "text/plain": [
       "                              exclude Temperature  End-of-century-temperature  \\\n",
       "model       scenario                                                            \n",
       "GCAM 3.0    EMF27-550-LimBio    False  Below 2.0C                        1.89   \n",
       "IMAGE 2.4   AMPERE3-450         False  Below 2.0C                        1.78   \n",
       "            AMPERE3-450P-CE     False  Below 2.0C                        1.95   \n",
       "MERGE_EMF27 EMF27-450-Conv      False  Below 2.0C                        1.66   \n",
       "            EMF27-G8-EERE       False  Below 2.0C                        1.95   \n",
       "\n",
       "                              Peak-temperature  Overshoot  \n",
       "model       scenario                                       \n",
       "GCAM 3.0    EMF27-550-LimBio              1.89       0.00  \n",
       "IMAGE 2.4   AMPERE3-450                   1.84       0.06  \n",
       "            AMPERE3-450P-CE               2.01       0.06  \n",
       "MERGE_EMF27 EMF27-450-Conv                1.66       0.00  \n",
       "            EMF27-G8-EERE                 1.95       0.00  "
      ]
     },
     "execution_count": 38,
     "metadata": {},
     "output_type": "execute_result"
    }
   ],
   "source": [
    "df.filter(Temperature='Below 2.0C').meta.head()"
   ]
  },
  {
   "cell_type": "code",
   "execution_count": 40,
   "metadata": {},
   "outputs": [],
   "source": [
    "df.to_excel('tutorial_export.xlsx')\n",
    "df.export_metadata('tutorial_metadata.xlsx')"
   ]
  }
 ],
 "metadata": {
  "kernelspec": {
   "display_name": "Python 3",
   "language": "python",
   "name": "python3"
  },
  "language_info": {
   "codemirror_mode": {
    "name": "ipython",
    "version": 3
   },
   "file_extension": ".py",
   "mimetype": "text/x-python",
   "name": "python",
   "nbconvert_exporter": "python",
   "pygments_lexer": "ipython3",
   "version": "3.7.4"
  }
 },
 "nbformat": 4,
 "nbformat_minor": 2
}
